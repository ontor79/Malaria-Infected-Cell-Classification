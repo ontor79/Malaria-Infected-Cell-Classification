{
 "cells": [
  {
   "cell_type": "code",
   "execution_count": 1,
   "id": "4a91d73e-c3b9-4318-a518-0e5f2ef705fe",
   "metadata": {},
   "outputs": [],
   "source": [
    "from tensorflow.keras.models import Sequential\n",
    "from tensorflow.keras.layers import Conv2D,MaxPool2D,Flatten,Dense,Dropout\n",
    "from tensorflow.keras.preprocessing.image import ImageDataGenerator\n",
    "import tensorflow as tf\n",
    "import pandas as pd\n",
    "import seaborn as sns\n",
    "import matplotlib.pyplot as plt\n",
    "import cv2\n",
    "import os"
   ]
  },
  {
   "cell_type": "markdown",
   "id": "fd7bb832-7e25-466a-9d5e-a9cee05db836",
   "metadata": {},
   "source": [
    "# Reading image data"
   ]
  },
  {
   "cell_type": "code",
   "execution_count": 2,
   "id": "341af303-b700-4ba4-896c-763b382582b5",
   "metadata": {},
   "outputs": [
    {
     "name": "stdout",
     "output_type": "stream",
     "text": [
      "Parasitized cell: 13780\n",
      "Uninfcted cell: 13780\n"
     ]
    }
   ],
   "source": [
    "Parasitized_cell=os.listdir('cell_images/cell_images/Parasitized')\n",
    "uninfected_cell=os.listdir('cell_images/cell_images/Uninfected')\n",
    "print(\"Parasitized cell:\",len(Parasitized_cell))\n",
    "print(\"Uninfcted cell:\",len(uninfected_cell))"
   ]
  },
  {
   "cell_type": "markdown",
   "id": "acb60212-8f9a-45f2-a3cc-5499a49d3f3b",
   "metadata": {},
   "source": [
    "# Resizing Cell images"
   ]
  },
  {
   "cell_type": "code",
   "execution_count": 3,
   "id": "5e30eb80-3916-48ee-b6b0-c60230950011",
   "metadata": {},
   "outputs": [],
   "source": [
    "width = 68\n",
    "height = 68"
   ]
  },
  {
   "cell_type": "markdown",
   "id": "e261542a-8552-40b4-b8ec-06a2d3a68699",
   "metadata": {},
   "source": [
    "# Rescaling the images by dividing with 255 (which is the highest pixel of an image) which in turn will scale the images to 0 and 1."
   ]
  },
  {
   "cell_type": "code",
   "execution_count": 4,
   "id": "0c6e8465-db9b-486a-b061-197f465d98f0",
   "metadata": {},
   "outputs": [],
   "source": [
    "datagen = ImageDataGenerator(rescale=1/255.0, validation_split=0.2)"
   ]
  },
  {
   "cell_type": "markdown",
   "id": "e7b91d49-4979-4d0a-854c-c930df3df081",
   "metadata": {},
   "source": [
    "# Preparing Train & Test"
   ]
  },
  {
   "cell_type": "code",
   "execution_count": 5,
   "id": "5652b094-4281-46d3-969e-5f518b080bff",
   "metadata": {},
   "outputs": [
    {
     "name": "stdout",
     "output_type": "stream",
     "text": [
      "Found 22048 images belonging to 2 classes.\n"
     ]
    }
   ],
   "source": [
    "trainDatagen = datagen.flow_from_directory(directory='C:\\\\Users\\\\ontor\\\\Downloads\\\\cell_images\\\\cell_images',\n",
    "                                           target_size=(width,height),\n",
    "                                           class_mode = 'binary',\n",
    "                                           batch_size = 16,\n",
    "                                           subset='training')"
   ]
  },
  {
   "cell_type": "code",
   "execution_count": 6,
   "id": "c63e0b7c-1ddb-4a37-b6f3-b5447cf3f3c2",
   "metadata": {},
   "outputs": [
    {
     "data": {
      "text/plain": [
       "{'Parasitized': 0, 'Uninfected': 1}"
      ]
     },
     "execution_count": 6,
     "metadata": {},
     "output_type": "execute_result"
    }
   ],
   "source": [
    "trainDatagen.class_indices"
   ]
  },
  {
   "cell_type": "markdown",
   "id": "4e45472b-0b87-48f0-950d-5b08498ce7c9",
   "metadata": {},
   "source": [
    "# Validation set"
   ]
  },
  {
   "cell_type": "code",
   "execution_count": 7,
   "id": "3564d7f2-b846-43f1-b517-4eca236544f0",
   "metadata": {},
   "outputs": [
    {
     "name": "stdout",
     "output_type": "stream",
     "text": [
      "Found 5510 images belonging to 2 classes.\n"
     ]
    }
   ],
   "source": [
    "valDatagen = datagen.flow_from_directory(directory='C:\\\\Users\\\\ontor\\\\Downloads\\\\cell_images\\\\cell_images',\n",
    "                                           target_size=(width,height),\n",
    "                                           class_mode = 'binary',\n",
    "                                           batch_size = 16,\n",
    "                                           subset='validation')"
   ]
  },
  {
   "cell_type": "markdown",
   "id": "df567c1f-3d7b-4371-b379-941123a74235",
   "metadata": {},
   "source": [
    "# Creating CNN model"
   ]
  },
  {
   "cell_type": "code",
   "execution_count": 8,
   "id": "97d309dd-be8b-45ad-9aed-acce7a396aae",
   "metadata": {},
   "outputs": [],
   "source": [
    "model = Sequential()\n",
    "model.add(Conv2D(16,(3,3),activation='relu',input_shape=(width,height,3)))\n",
    "model.add(MaxPool2D(2,2))\n",
    "model.add(Dropout(0.2))\n",
    "\n",
    "\n",
    "model.add(Conv2D(64,(3,3),activation='relu'))\n",
    "model.add(MaxPool2D(2,2))\n",
    "model.add(Dropout(0.3))\n",
    "\n",
    "model.add(Flatten())\n",
    "model.add(Dense(64,activation='relu'))\n",
    "model.add(Dropout(0.5))\n",
    "\n",
    "model.add(Dense(1,activation='sigmoid'))"
   ]
  },
  {
   "cell_type": "code",
   "execution_count": 9,
   "id": "1372e718-18f9-44ce-8b86-24708b6f9a39",
   "metadata": {},
   "outputs": [
    {
     "name": "stdout",
     "output_type": "stream",
     "text": [
      "Model: \"sequential\"\n",
      "_________________________________________________________________\n",
      " Layer (type)                Output Shape              Param #   \n",
      "=================================================================\n",
      " conv2d (Conv2D)             (None, 66, 66, 16)        448       \n",
      "                                                                 \n",
      " max_pooling2d (MaxPooling2D  (None, 33, 33, 16)       0         \n",
      " )                                                               \n",
      "                                                                 \n",
      " dropout (Dropout)           (None, 33, 33, 16)        0         \n",
      "                                                                 \n",
      " conv2d_1 (Conv2D)           (None, 31, 31, 64)        9280      \n",
      "                                                                 \n",
      " max_pooling2d_1 (MaxPooling  (None, 15, 15, 64)       0         \n",
      " 2D)                                                             \n",
      "                                                                 \n",
      " dropout_1 (Dropout)         (None, 15, 15, 64)        0         \n",
      "                                                                 \n",
      " flatten (Flatten)           (None, 14400)             0         \n",
      "                                                                 \n",
      " dense (Dense)               (None, 64)                921664    \n",
      "                                                                 \n",
      " dropout_2 (Dropout)         (None, 64)                0         \n",
      "                                                                 \n",
      " dense_1 (Dense)             (None, 1)                 65        \n",
      "                                                                 \n",
      "=================================================================\n",
      "Total params: 931,457\n",
      "Trainable params: 931,457\n",
      "Non-trainable params: 0\n",
      "_________________________________________________________________\n"
     ]
    }
   ],
   "source": [
    "model.summary()"
   ]
  },
  {
   "cell_type": "code",
   "execution_count": 10,
   "id": "72288312-0f81-42a8-9df2-d6b6b0e28243",
   "metadata": {},
   "outputs": [],
   "source": [
    "model.compile(optimizer='adam',\n",
    "              loss='binary_crossentropy',\n",
    "              metrics=['accuracy'])"
   ]
  },
  {
   "cell_type": "code",
   "execution_count": 11,
   "id": "08a66e59-003a-4c1d-afd1-59f03372f494",
   "metadata": {},
   "outputs": [
    {
     "name": "stderr",
     "output_type": "stream",
     "text": [
      "C:\\Users\\ontor\\AppData\\Local\\Temp/ipykernel_9448/961808951.py:1: UserWarning: `Model.fit_generator` is deprecated and will be removed in a future version. Please use `Model.fit`, which supports generators.\n",
      "  history=model.fit_generator(generator=trainDatagen,\n"
     ]
    },
    {
     "name": "stdout",
     "output_type": "stream",
     "text": [
      "Epoch 1/6\n",
      "1378/1378 [==============================] - 214s 155ms/step - loss: 0.4396 - accuracy: 0.8076 - val_loss: 0.2505 - val_accuracy: 0.9265\n",
      "Epoch 2/6\n",
      "1378/1378 [==============================] - 47s 34ms/step - loss: 0.2346 - accuracy: 0.9226 - val_loss: 0.1970 - val_accuracy: 0.9258\n",
      "Epoch 3/6\n",
      "1378/1378 [==============================] - 49s 36ms/step - loss: 0.2084 - accuracy: 0.9358 - val_loss: 0.1816 - val_accuracy: 0.9383\n",
      "Epoch 4/6\n",
      "1378/1378 [==============================] - 46s 34ms/step - loss: 0.1909 - accuracy: 0.9423 - val_loss: 0.1719 - val_accuracy: 0.9385\n",
      "Epoch 5/6\n",
      "1378/1378 [==============================] - 52s 38ms/step - loss: 0.1771 - accuracy: 0.9464 - val_loss: 0.1673 - val_accuracy: 0.9359\n",
      "Epoch 6/6\n",
      "1378/1378 [==============================] - 45s 33ms/step - loss: 0.1586 - accuracy: 0.9511 - val_loss: 0.1742 - val_accuracy: 0.9327\n"
     ]
    }
   ],
   "source": [
    "history=model.fit_generator(generator=trainDatagen,\n",
    "                            steps_per_epoch=len(trainDatagen),\n",
    "                            epochs=6,\n",
    "                            validation_data=valDatagen ,\n",
    "                            validation_steps=len(valDatagen )\n",
    "                           )"
   ]
  },
  {
   "cell_type": "markdown",
   "id": "ef1626a3-063f-4da4-9e0e-e769cefe3bcb",
   "metadata": {},
   "source": [
    "# Saving the model in hdf5 format to access it in the streamlit app"
   ]
  },
  {
   "cell_type": "code",
   "execution_count": 12,
   "id": "67b6d52d-3106-4562-a62f-7619b745bfac",
   "metadata": {},
   "outputs": [],
   "source": [
    "tf.keras.models.save_model(model,'mymodel.hdf5')"
   ]
  },
  {
   "cell_type": "markdown",
   "id": "d5426520-50a1-4bb1-b5e2-28cb12489bfe",
   "metadata": {},
   "source": [
    "# Writing the code for the streamlit app to host online "
   ]
  },
  {
   "cell_type": "code",
   "execution_count": 13,
   "id": "43a1709d-709d-4a9d-9c51-237b1268139b",
   "metadata": {},
   "outputs": [
    {
     "name": "stdout",
     "output_type": "stream",
     "text": [
      "Overwriting app.py\n"
     ]
    }
   ],
   "source": [
    "%%writefile app.py\n",
    "import streamlit as st\n",
    "import tensorflow as tf\n",
    "import streamlit as st\n",
    "\n",
    "@st.cache(allow_output_mutation=True)\n",
    "\n",
    "def load_model():\n",
    "    model=tf.keras.models.load_model(\"C:\\\\Users\\\\ontor\\\\Downloads\\\\mymodel.hdf5\")\n",
    "    return model\n",
    "with st.spinner('Model is being loaded..'):\n",
    "    model=load_model()\n",
    "    \n",
    "st.write(\"\"\"\n",
    "         # Malaria-infected Cell Classification\n",
    "         \"\"\"\n",
    "         )\n",
    "\n",
    "file = st.file_uploader(\"Please upload a cell image file\", type=[\"jpg\", \"png\"])\n",
    "import cv2\n",
    "from PIL import Image, ImageOps\n",
    "import numpy as np\n",
    "\n",
    "def import_and_predict(image_data, model):\n",
    "    size = (68,68)\n",
    "    image = ImageOps.fit(image_data, size, Image.ANTIALIAS)\n",
    "    img = np.asarray(image)\n",
    "    img_reshape = img[np.newaxis,...]\n",
    "    prediction = model.predict(img_reshape)\n",
    "    \n",
    "    return prediction\n",
    "\n",
    "if file is None:\n",
    "    st.text(\"Please upload an image file\")\n",
    "else:\n",
    "    image = Image.open(file)\n",
    "    st.image(image, use_column_width=True)\n",
    "    predictions = import_and_predict(image, model)\n",
    "    if predictions == [[1.]]:\n",
    "        string = \"The patient doesn't have malaria infected cells\"\n",
    "    else:\n",
    "        string = \"The patient has malaria infected cells\"\n",
    "    st.success(string)\n",
    "        \n",
    "    \n",
    "\n",
    "\n",
    "\n",
    "        \n"
   ]
  },
  {
   "cell_type": "markdown",
   "id": "25c9f0d1-4ce1-4d2f-a682-f5219342e4e6",
   "metadata": {},
   "source": [
    "# Test the model"
   ]
  },
  {
   "cell_type": "code",
   "execution_count": 17,
   "id": "1a8ebbb2-a0d4-4e8c-812a-ce6252a22b6a",
   "metadata": {},
   "outputs": [],
   "source": [
    "from tensorflow.keras.preprocessing import image\n",
    "import numpy as np"
   ]
  },
  {
   "cell_type": "code",
   "execution_count": 18,
   "id": "993aa4dd-bbe6-45ae-b5cd-9eae7193d623",
   "metadata": {},
   "outputs": [
    {
     "data": {
      "image/png": "[encoded data removed]",
      "text/plain": [
       "<Figure size 432x288 with 1 Axes>"
      ]
     },
     "metadata": {
      "needs_background": "light"
     },
     "output_type": "display_data"
    }
   ],
   "source": [
    "testing_path=\"C:\\\\Users\\\\ontor\\\\Downloads\\\\models\\\\test_images\\\\Parasitized\\\\C39P4thinF_original_IMG_20150622_105102_cell_90.png\"\n",
    "img=image.load_img(testing_path,target_size=(68,68))\n",
    "plt.imshow(img)\n",
    "\n",
    "x=image.img_to_array(img)\n",
    "x=np.expand_dims(x,axis=0)\n",
    "images=np.vstack([x])\n",
    "val=model.predict(images)\n",
    "if val==0:\n",
    "    plt.title(\"Paracitized\")\n",
    "else:\n",
    "    plt.title(\"Uninfected\")"
   ]
  },
  {
   "cell_type": "code",
   "execution_count": 21,
   "id": "6ed087e1-40a5-474e-8905-778bc9331a75",
   "metadata": {},
   "outputs": [
    {
     "data": {
      "image/png": "[encoded data removed]",
      "text/plain": [
       "<Figure size 432x288 with 1 Axes>"
      ]
     },
     "metadata": {
      "needs_background": "light"
     },
     "output_type": "display_data"
    }
   ],
   "source": [
    "testing_path=\"C:\\\\Users\\\\ontor\\\\Downloads\\\\models\\\\test_images\\\\Uninfected\\\\C45P6ThinF_IMG_20151130_160135_cell_115.png\"\n",
    "img=image.load_img(testing_path,target_size=(68,68))\n",
    "plt.imshow(img)\n",
    "\n",
    "x=image.img_to_array(img)\n",
    "x=np.expand_dims(x,axis=0)\n",
    "images=np.vstack([x])\n",
    "val=model.predict(images)\n",
    "if val==0:\n",
    "    plt.title(\"Paracitized\")\n",
    "else:\n",
    "    plt.title(\"Uninfected\")"
   ]
  },
  {
   "cell_type": "code",
   "execution_count": null,
   "id": "aa471dc0-97d1-4e60-8ed3-d5ae0111dec3",
   "metadata": {},
   "outputs": [],
   "source": []
  }
 ],
 "metadata": {
  "kernelspec": {
   "display_name": "Python 3 (ipykernel)",
   "language": "python",
   "name": "python3"
  },
  "language_info": {
   "codemirror_mode": {
    "name": "ipython",
    "version": 3
   },
   "file_extension": ".py",
   "mimetype": "text/x-python",
   "name": "python",
   "nbconvert_exporter": "python",
   "pygments_lexer": "ipython3",
   "version": "3.9.7"
  }
 },
 "nbformat": 4,
 "nbformat_minor": 5
}
